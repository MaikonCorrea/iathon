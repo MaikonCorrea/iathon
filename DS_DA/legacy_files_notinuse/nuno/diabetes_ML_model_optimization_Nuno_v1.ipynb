{
 "cells": [
  {
   "cell_type": "markdown",
   "id": "2cc4c4b4",
   "metadata": {},
   "source": [
    "# Otimização de modelos ML para predição de diabetes - Nuno\n",
    "\n",
    "## Partes\n",
    "\n",
    "**- 1 Importação e limpeza dos dados**  \n",
    "\n",
    "**- 2 EDA**  \n",
    "\n",
    "**- 3 Otimização de modelos**  \n",
    "\n",
    "## Origem dos dados\n",
    "link: https://archive.ics.uci.edu/dataset/529/early+stage+diabetes+risk+prediction+dataset  \n",
    "\n",
    "This has been collected using direct questionnaires from the patients of Sylhet Diabetes Hospital in Sylhet, Bangladesh and approved by a doctor.\n",
    "\n",
    "Early stage diabetes risk prediction dataset.. (2020). UCI Machine Learning Repository. https://doi.org/10.24432/C5VG8H\n",
    "\n",
    "Dados obtidos em 23 de setembro de 2023.\n",
    "\n",
    "**Razões para a escolha:**  \n",
    "- pode ser construído um modelo com dados fáceis de preencher por qualquer pessoa, sem necessidade de exames de sangue ou qualquer procedimento invasivo ou complexo.\n",
    "\n",
    "**Drawbacks da base de dados:**\n",
    "- cerca de 500 entradas pode ser pouco para o treino do modelo  \n",
    "    - no entanto, dados clínicos são difíceis de obter em larga escala\n",
    "- aparentemente sem citações, apesar de outras DB também arquivas no UCI terem muito mais citações \n",
    "- as colunas não acompanhadas de explicações detalhadas sobre os dados contidos nem sobre como os dados foram obtidos\n",
    "    - os nomes das colunas são em geral auto-explicativos"
   ]
  },
  {
   "cell_type": "markdown",
   "id": "eb8b09c4",
   "metadata": {},
   "source": [
    "## 1 Importação e limpeza dos dados"
   ]
  },
  {
   "cell_type": "code",
   "execution_count": 101,
   "id": "d58659d3",
   "metadata": {},
   "outputs": [],
   "source": [
    "# importar bibliotecas\n",
    "import pandas as pd\n",
    "import matplotlib.pyplot as plt\n",
    "from sklearn.model_selection import train_test_split\n",
    "from sklearn.preprocessing import StandardScaler\n",
    "from sklearn.model_selection import cross_val_predict\n",
    "from sklearn.linear_model import LogisticRegression\n",
    "from sklearn.tree import DecisionTreeClassifier\n",
    "from sklearn.ensemble import RandomForestClassifier\n",
    "from lightgbm import LGBMClassifier\n",
    "from sklearn.metrics import classification_report, roc_auc_score, recall_score, f1_score\n",
    "import joblib"
   ]
  },
  {
   "cell_type": "code",
   "execution_count": 66,
   "id": "5366debe",
   "metadata": {},
   "outputs": [
    {
     "data": {
      "text/html": [
       "<div>\n",
       "<style scoped>\n",
       "    .dataframe tbody tr th:only-of-type {\n",
       "        vertical-align: middle;\n",
       "    }\n",
       "\n",
       "    .dataframe tbody tr th {\n",
       "        vertical-align: top;\n",
       "    }\n",
       "\n",
       "    .dataframe thead th {\n",
       "        text-align: right;\n",
       "    }\n",
       "</style>\n",
       "<table border=\"1\" class=\"dataframe\">\n",
       "  <thead>\n",
       "    <tr style=\"text-align: right;\">\n",
       "      <th></th>\n",
       "      <th>Age</th>\n",
       "      <th>Gender</th>\n",
       "      <th>Polyuria</th>\n",
       "      <th>Polydipsia</th>\n",
       "      <th>sudden weight loss</th>\n",
       "      <th>weakness</th>\n",
       "      <th>Polyphagia</th>\n",
       "      <th>Genital thrush</th>\n",
       "      <th>visual blurring</th>\n",
       "      <th>Itching</th>\n",
       "      <th>Irritability</th>\n",
       "      <th>delayed healing</th>\n",
       "      <th>partial paresis</th>\n",
       "      <th>muscle stiffness</th>\n",
       "      <th>Alopecia</th>\n",
       "      <th>Obesity</th>\n",
       "      <th>class</th>\n",
       "    </tr>\n",
       "  </thead>\n",
       "  <tbody>\n",
       "    <tr>\n",
       "      <th>0</th>\n",
       "      <td>40</td>\n",
       "      <td>Male</td>\n",
       "      <td>No</td>\n",
       "      <td>Yes</td>\n",
       "      <td>No</td>\n",
       "      <td>Yes</td>\n",
       "      <td>No</td>\n",
       "      <td>No</td>\n",
       "      <td>No</td>\n",
       "      <td>Yes</td>\n",
       "      <td>No</td>\n",
       "      <td>Yes</td>\n",
       "      <td>No</td>\n",
       "      <td>Yes</td>\n",
       "      <td>Yes</td>\n",
       "      <td>Yes</td>\n",
       "      <td>Positive</td>\n",
       "    </tr>\n",
       "    <tr>\n",
       "      <th>1</th>\n",
       "      <td>58</td>\n",
       "      <td>Male</td>\n",
       "      <td>No</td>\n",
       "      <td>No</td>\n",
       "      <td>No</td>\n",
       "      <td>Yes</td>\n",
       "      <td>No</td>\n",
       "      <td>No</td>\n",
       "      <td>Yes</td>\n",
       "      <td>No</td>\n",
       "      <td>No</td>\n",
       "      <td>No</td>\n",
       "      <td>Yes</td>\n",
       "      <td>No</td>\n",
       "      <td>Yes</td>\n",
       "      <td>No</td>\n",
       "      <td>Positive</td>\n",
       "    </tr>\n",
       "    <tr>\n",
       "      <th>2</th>\n",
       "      <td>41</td>\n",
       "      <td>Male</td>\n",
       "      <td>Yes</td>\n",
       "      <td>No</td>\n",
       "      <td>No</td>\n",
       "      <td>Yes</td>\n",
       "      <td>Yes</td>\n",
       "      <td>No</td>\n",
       "      <td>No</td>\n",
       "      <td>Yes</td>\n",
       "      <td>No</td>\n",
       "      <td>Yes</td>\n",
       "      <td>No</td>\n",
       "      <td>Yes</td>\n",
       "      <td>Yes</td>\n",
       "      <td>No</td>\n",
       "      <td>Positive</td>\n",
       "    </tr>\n",
       "    <tr>\n",
       "      <th>3</th>\n",
       "      <td>45</td>\n",
       "      <td>Male</td>\n",
       "      <td>No</td>\n",
       "      <td>No</td>\n",
       "      <td>Yes</td>\n",
       "      <td>Yes</td>\n",
       "      <td>Yes</td>\n",
       "      <td>Yes</td>\n",
       "      <td>No</td>\n",
       "      <td>Yes</td>\n",
       "      <td>No</td>\n",
       "      <td>Yes</td>\n",
       "      <td>No</td>\n",
       "      <td>No</td>\n",
       "      <td>No</td>\n",
       "      <td>No</td>\n",
       "      <td>Positive</td>\n",
       "    </tr>\n",
       "    <tr>\n",
       "      <th>4</th>\n",
       "      <td>60</td>\n",
       "      <td>Male</td>\n",
       "      <td>Yes</td>\n",
       "      <td>Yes</td>\n",
       "      <td>Yes</td>\n",
       "      <td>Yes</td>\n",
       "      <td>Yes</td>\n",
       "      <td>No</td>\n",
       "      <td>Yes</td>\n",
       "      <td>Yes</td>\n",
       "      <td>Yes</td>\n",
       "      <td>Yes</td>\n",
       "      <td>Yes</td>\n",
       "      <td>Yes</td>\n",
       "      <td>Yes</td>\n",
       "      <td>Yes</td>\n",
       "      <td>Positive</td>\n",
       "    </tr>\n",
       "  </tbody>\n",
       "</table>\n",
       "</div>"
      ],
      "text/plain": [
       "   Age Gender Polyuria Polydipsia sudden weight loss weakness Polyphagia  \\\n",
       "0   40   Male       No        Yes                 No      Yes         No   \n",
       "1   58   Male       No         No                 No      Yes         No   \n",
       "2   41   Male      Yes         No                 No      Yes        Yes   \n",
       "3   45   Male       No         No                Yes      Yes        Yes   \n",
       "4   60   Male      Yes        Yes                Yes      Yes        Yes   \n",
       "\n",
       "  Genital thrush visual blurring Itching Irritability delayed healing  \\\n",
       "0             No              No     Yes           No             Yes   \n",
       "1             No             Yes      No           No              No   \n",
       "2             No              No     Yes           No             Yes   \n",
       "3            Yes              No     Yes           No             Yes   \n",
       "4             No             Yes     Yes          Yes             Yes   \n",
       "\n",
       "  partial paresis muscle stiffness Alopecia Obesity     class  \n",
       "0              No              Yes      Yes     Yes  Positive  \n",
       "1             Yes               No      Yes      No  Positive  \n",
       "2              No              Yes      Yes      No  Positive  \n",
       "3              No               No       No      No  Positive  \n",
       "4             Yes              Yes      Yes     Yes  Positive  "
      ]
     },
     "execution_count": 66,
     "metadata": {},
     "output_type": "execute_result"
    }
   ],
   "source": [
    "#importar dados\n",
    "df = pd.read_csv('datasets/diabetes_data_upload.csv')\n",
    "df.head()"
   ]
  },
  {
   "cell_type": "code",
   "execution_count": 67,
   "id": "a00f50f9",
   "metadata": {},
   "outputs": [
    {
     "data": {
      "text/html": [
       "<div>\n",
       "<style scoped>\n",
       "    .dataframe tbody tr th:only-of-type {\n",
       "        vertical-align: middle;\n",
       "    }\n",
       "\n",
       "    .dataframe tbody tr th {\n",
       "        vertical-align: top;\n",
       "    }\n",
       "\n",
       "    .dataframe thead th {\n",
       "        text-align: right;\n",
       "    }\n",
       "</style>\n",
       "<table border=\"1\" class=\"dataframe\">\n",
       "  <thead>\n",
       "    <tr style=\"text-align: right;\">\n",
       "      <th></th>\n",
       "      <th>age</th>\n",
       "      <th>gender</th>\n",
       "      <th>polyuria</th>\n",
       "      <th>polydipsia</th>\n",
       "      <th>sudden_weight_loss</th>\n",
       "      <th>weakness</th>\n",
       "      <th>polyphagia</th>\n",
       "      <th>genital_thrush</th>\n",
       "      <th>visual_blurring</th>\n",
       "      <th>itching</th>\n",
       "      <th>irritability</th>\n",
       "      <th>delayed_healing</th>\n",
       "      <th>partial_paresis</th>\n",
       "      <th>muscle_stiffness</th>\n",
       "      <th>alopecia</th>\n",
       "      <th>obesity</th>\n",
       "      <th>class</th>\n",
       "    </tr>\n",
       "  </thead>\n",
       "  <tbody>\n",
       "    <tr>\n",
       "      <th>0</th>\n",
       "      <td>40</td>\n",
       "      <td>Male</td>\n",
       "      <td>No</td>\n",
       "      <td>Yes</td>\n",
       "      <td>No</td>\n",
       "      <td>Yes</td>\n",
       "      <td>No</td>\n",
       "      <td>No</td>\n",
       "      <td>No</td>\n",
       "      <td>Yes</td>\n",
       "      <td>No</td>\n",
       "      <td>Yes</td>\n",
       "      <td>No</td>\n",
       "      <td>Yes</td>\n",
       "      <td>Yes</td>\n",
       "      <td>Yes</td>\n",
       "      <td>Positive</td>\n",
       "    </tr>\n",
       "    <tr>\n",
       "      <th>1</th>\n",
       "      <td>58</td>\n",
       "      <td>Male</td>\n",
       "      <td>No</td>\n",
       "      <td>No</td>\n",
       "      <td>No</td>\n",
       "      <td>Yes</td>\n",
       "      <td>No</td>\n",
       "      <td>No</td>\n",
       "      <td>Yes</td>\n",
       "      <td>No</td>\n",
       "      <td>No</td>\n",
       "      <td>No</td>\n",
       "      <td>Yes</td>\n",
       "      <td>No</td>\n",
       "      <td>Yes</td>\n",
       "      <td>No</td>\n",
       "      <td>Positive</td>\n",
       "    </tr>\n",
       "    <tr>\n",
       "      <th>2</th>\n",
       "      <td>41</td>\n",
       "      <td>Male</td>\n",
       "      <td>Yes</td>\n",
       "      <td>No</td>\n",
       "      <td>No</td>\n",
       "      <td>Yes</td>\n",
       "      <td>Yes</td>\n",
       "      <td>No</td>\n",
       "      <td>No</td>\n",
       "      <td>Yes</td>\n",
       "      <td>No</td>\n",
       "      <td>Yes</td>\n",
       "      <td>No</td>\n",
       "      <td>Yes</td>\n",
       "      <td>Yes</td>\n",
       "      <td>No</td>\n",
       "      <td>Positive</td>\n",
       "    </tr>\n",
       "    <tr>\n",
       "      <th>3</th>\n",
       "      <td>45</td>\n",
       "      <td>Male</td>\n",
       "      <td>No</td>\n",
       "      <td>No</td>\n",
       "      <td>Yes</td>\n",
       "      <td>Yes</td>\n",
       "      <td>Yes</td>\n",
       "      <td>Yes</td>\n",
       "      <td>No</td>\n",
       "      <td>Yes</td>\n",
       "      <td>No</td>\n",
       "      <td>Yes</td>\n",
       "      <td>No</td>\n",
       "      <td>No</td>\n",
       "      <td>No</td>\n",
       "      <td>No</td>\n",
       "      <td>Positive</td>\n",
       "    </tr>\n",
       "    <tr>\n",
       "      <th>4</th>\n",
       "      <td>60</td>\n",
       "      <td>Male</td>\n",
       "      <td>Yes</td>\n",
       "      <td>Yes</td>\n",
       "      <td>Yes</td>\n",
       "      <td>Yes</td>\n",
       "      <td>Yes</td>\n",
       "      <td>No</td>\n",
       "      <td>Yes</td>\n",
       "      <td>Yes</td>\n",
       "      <td>Yes</td>\n",
       "      <td>Yes</td>\n",
       "      <td>Yes</td>\n",
       "      <td>Yes</td>\n",
       "      <td>Yes</td>\n",
       "      <td>Yes</td>\n",
       "      <td>Positive</td>\n",
       "    </tr>\n",
       "  </tbody>\n",
       "</table>\n",
       "</div>"
      ],
      "text/plain": [
       "   age gender polyuria polydipsia sudden_weight_loss weakness polyphagia  \\\n",
       "0   40   Male       No        Yes                 No      Yes         No   \n",
       "1   58   Male       No         No                 No      Yes         No   \n",
       "2   41   Male      Yes         No                 No      Yes        Yes   \n",
       "3   45   Male       No         No                Yes      Yes        Yes   \n",
       "4   60   Male      Yes        Yes                Yes      Yes        Yes   \n",
       "\n",
       "  genital_thrush visual_blurring itching irritability delayed_healing  \\\n",
       "0             No              No     Yes           No             Yes   \n",
       "1             No             Yes      No           No              No   \n",
       "2             No              No     Yes           No             Yes   \n",
       "3            Yes              No     Yes           No             Yes   \n",
       "4             No             Yes     Yes          Yes             Yes   \n",
       "\n",
       "  partial_paresis muscle_stiffness alopecia obesity     class  \n",
       "0              No              Yes      Yes     Yes  Positive  \n",
       "1             Yes               No      Yes      No  Positive  \n",
       "2              No              Yes      Yes      No  Positive  \n",
       "3              No               No       No      No  Positive  \n",
       "4             Yes              Yes      Yes     Yes  Positive  "
      ]
     },
     "execution_count": 67,
     "metadata": {},
     "output_type": "execute_result"
    }
   ],
   "source": [
    "#transformar nomes de colunas em snake_case\n",
    "df.columns = df.columns.str.replace(' ', '_').str.lower()\n",
    "df.head()"
   ]
  },
  {
   "cell_type": "markdown",
   "id": "fc6b34da",
   "metadata": {},
   "source": [
    "**Algumas das colunas correspondem a alterações que provavelmente os usuários terão dificuldade em saber, e nós queremos um formulário com coisas que todo mundo saiba preencher com facilidade. Vamos escolher quais colunas não usar.**"
   ]
  },
  {
   "cell_type": "markdown",
   "id": "93e49cdb",
   "metadata": {},
   "source": [
    "**Notas sobre cada coluna:**  \n",
    "- 1 polyuria\n",
    "    - poliúria\n",
    "    - urinar mais de 2.5L por dia\n",
    "- 1 polydipsia\n",
    "    - polidipsia\n",
    "    - vontade constante de beber água\n",
    "- 1 sudden_weight_loss\n",
    "    - perda de peso repentina\n",
    "- weakness\n",
    "    - fraqueza\n",
    "- 1 polyphagia\n",
    "    - polifagia\n",
    "    - vontade de comer superior ao normal\n",
    "- genital_thrush\n",
    "    - infeção fúngica genital\n",
    "- 1 visual_blurring\n",
    "    - visão turva\n",
    "- itching\n",
    "    - comichão\n",
    "- 1 **irritability\n",
    "    - irritabilidade\n",
    "- 1 delayed_healing\n",
    "    - cicatrização lenta\n",
    "- partial_paresis\n",
    "    - paresia parcial\n",
    "    - movimento limitado ou fraco, pouca força e coordenação em parte do corpo\n",
    "- muscle_stiffness\n",
    "    - rigidez muscular\n",
    "- 1 alopecia\n",
    "    - alopécia\n",
    "    - perda de cabelo\n",
    "- 1 **obesity : precisamos perguntar peso e altura para definir o IMC e depois definir se é obesidade ou não**\n",
    "    - obesidade"
   ]
  },
  {
   "cell_type": "code",
   "execution_count": 68,
   "id": "e4939b4a",
   "metadata": {},
   "outputs": [
    {
     "name": "stdout",
     "output_type": "stream",
     "text": [
      "<class 'pandas.core.frame.DataFrame'>\n",
      "RangeIndex: 520 entries, 0 to 519\n",
      "Data columns (total 17 columns):\n",
      " #   Column              Non-Null Count  Dtype \n",
      "---  ------              --------------  ----- \n",
      " 0   age                 520 non-null    int64 \n",
      " 1   gender              520 non-null    object\n",
      " 2   polyuria            520 non-null    object\n",
      " 3   polydipsia          520 non-null    object\n",
      " 4   sudden_weight_loss  520 non-null    object\n",
      " 5   weakness            520 non-null    object\n",
      " 6   polyphagia          520 non-null    object\n",
      " 7   genital_thrush      520 non-null    object\n",
      " 8   visual_blurring     520 non-null    object\n",
      " 9   itching             520 non-null    object\n",
      " 10  irritability        520 non-null    object\n",
      " 11  delayed_healing     520 non-null    object\n",
      " 12  partial_paresis     520 non-null    object\n",
      " 13  muscle_stiffness    520 non-null    object\n",
      " 14  alopecia            520 non-null    object\n",
      " 15  obesity             520 non-null    object\n",
      " 16  class               520 non-null    object\n",
      "dtypes: int64(1), object(16)\n",
      "memory usage: 69.2+ KB\n"
     ]
    }
   ],
   "source": [
    "#infos do df\n",
    "df.info()"
   ]
  },
  {
   "cell_type": "markdown",
   "id": "b1f53751",
   "metadata": {},
   "source": [
    "Sem dados nulos."
   ]
  },
  {
   "cell_type": "code",
   "execution_count": 69,
   "id": "436fba88",
   "metadata": {},
   "outputs": [
    {
     "name": "stdout",
     "output_type": "stream",
     "text": [
      "Unique values in age: [40 58 41 45 60 55 57 66 67 70 44 38 35 61 54 43 62 39 48 32 42 52 53 37\n",
      " 49 63 30 50 46 36 51 59 65 25 47 28 68 56 31 85 90 72 69 79 34 16 33 64\n",
      " 27 29 26]\n",
      "Unique values in gender: ['Male' 'Female']\n",
      "Unique values in polyuria: ['No' 'Yes']\n",
      "Unique values in polydipsia: ['Yes' 'No']\n",
      "Unique values in sudden_weight_loss: ['No' 'Yes']\n",
      "Unique values in weakness: ['Yes' 'No']\n",
      "Unique values in polyphagia: ['No' 'Yes']\n",
      "Unique values in genital_thrush: ['No' 'Yes']\n",
      "Unique values in visual_blurring: ['No' 'Yes']\n",
      "Unique values in itching: ['Yes' 'No']\n",
      "Unique values in irritability: ['No' 'Yes']\n",
      "Unique values in delayed_healing: ['Yes' 'No']\n",
      "Unique values in partial_paresis: ['No' 'Yes']\n",
      "Unique values in muscle_stiffness: ['Yes' 'No']\n",
      "Unique values in alopecia: ['Yes' 'No']\n",
      "Unique values in obesity: ['Yes' 'No']\n",
      "Unique values in class: ['Positive' 'Negative']\n"
     ]
    }
   ],
   "source": [
    "#verificar dados únicos para cada coluna\n",
    "unique_values = {}\n",
    "for column in df.columns:\n",
    "    unique_values[column] = df[column].unique()\n",
    "\n",
    "#mostrar dados unicos\n",
    "for column, values in unique_values.items():\n",
    "    print(f'Unique values in {column}: {values}')"
   ]
  },
  {
   "cell_type": "markdown",
   "id": "008eb5d7",
   "metadata": {},
   "source": [
    "Todas a colunas apresentam os dados esperados.  \n",
    "  \n",
    "Vamos verificar a distribuição de idades."
   ]
  },
  {
   "cell_type": "markdown",
   "id": "cdedbda7",
   "metadata": {},
   "source": [
    "## 2 EDA"
   ]
  },
  {
   "cell_type": "code",
   "execution_count": 70,
   "id": "f561daee",
   "metadata": {
    "scrolled": true
   },
   "outputs": [
    {
     "data": {
      "text/plain": [
       "<AxesSubplot:>"
      ]
     },
     "execution_count": 70,
     "metadata": {},
     "output_type": "execute_result"
    },
    {
     "data": {
      "image/png": "[encoded data removed]",
      "text/plain": [
       "<Figure size 640x480 with 1 Axes>"
      ]
     },
     "metadata": {},
     "output_type": "display_data"
    }
   ],
   "source": [
    "#distribuição de dados\n",
    "df['age'].hist()"
   ]
  },
  {
   "cell_type": "markdown",
   "id": "d494f15c",
   "metadata": {},
   "source": [
    "Nada de estranho, com ums distribuição relativamente normal."
   ]
  },
  {
   "cell_type": "markdown",
   "id": "91f3de24",
   "metadata": {},
   "source": [
    "**Vamos apagar as colunas em que usuários terão mais dificuldade de preencher com acurácia.(e portanto farão o questionário desnecessariamente tedioso)**"
   ]
  },
  {
   "cell_type": "code",
   "execution_count": 71,
   "id": "28ce5207",
   "metadata": {},
   "outputs": [
    {
     "data": {
      "text/html": [
       "<div>\n",
       "<style scoped>\n",
       "    .dataframe tbody tr th:only-of-type {\n",
       "        vertical-align: middle;\n",
       "    }\n",
       "\n",
       "    .dataframe tbody tr th {\n",
       "        vertical-align: top;\n",
       "    }\n",
       "\n",
       "    .dataframe thead th {\n",
       "        text-align: right;\n",
       "    }\n",
       "</style>\n",
       "<table border=\"1\" class=\"dataframe\">\n",
       "  <thead>\n",
       "    <tr style=\"text-align: right;\">\n",
       "      <th></th>\n",
       "      <th>age</th>\n",
       "      <th>gender</th>\n",
       "      <th>polyuria</th>\n",
       "      <th>polydipsia</th>\n",
       "      <th>sudden_weight_loss</th>\n",
       "      <th>polyphagia</th>\n",
       "      <th>visual_blurring</th>\n",
       "      <th>irritability</th>\n",
       "      <th>delayed_healing</th>\n",
       "      <th>alopecia</th>\n",
       "      <th>obesity</th>\n",
       "      <th>class</th>\n",
       "    </tr>\n",
       "  </thead>\n",
       "  <tbody>\n",
       "    <tr>\n",
       "      <th>0</th>\n",
       "      <td>40</td>\n",
       "      <td>Male</td>\n",
       "      <td>No</td>\n",
       "      <td>Yes</td>\n",
       "      <td>No</td>\n",
       "      <td>No</td>\n",
       "      <td>No</td>\n",
       "      <td>No</td>\n",
       "      <td>Yes</td>\n",
       "      <td>Yes</td>\n",
       "      <td>Yes</td>\n",
       "      <td>Positive</td>\n",
       "    </tr>\n",
       "    <tr>\n",
       "      <th>1</th>\n",
       "      <td>58</td>\n",
       "      <td>Male</td>\n",
       "      <td>No</td>\n",
       "      <td>No</td>\n",
       "      <td>No</td>\n",
       "      <td>No</td>\n",
       "      <td>Yes</td>\n",
       "      <td>No</td>\n",
       "      <td>No</td>\n",
       "      <td>Yes</td>\n",
       "      <td>No</td>\n",
       "      <td>Positive</td>\n",
       "    </tr>\n",
       "    <tr>\n",
       "      <th>2</th>\n",
       "      <td>41</td>\n",
       "      <td>Male</td>\n",
       "      <td>Yes</td>\n",
       "      <td>No</td>\n",
       "      <td>No</td>\n",
       "      <td>Yes</td>\n",
       "      <td>No</td>\n",
       "      <td>No</td>\n",
       "      <td>Yes</td>\n",
       "      <td>Yes</td>\n",
       "      <td>No</td>\n",
       "      <td>Positive</td>\n",
       "    </tr>\n",
       "    <tr>\n",
       "      <th>3</th>\n",
       "      <td>45</td>\n",
       "      <td>Male</td>\n",
       "      <td>No</td>\n",
       "      <td>No</td>\n",
       "      <td>Yes</td>\n",
       "      <td>Yes</td>\n",
       "      <td>No</td>\n",
       "      <td>No</td>\n",
       "      <td>Yes</td>\n",
       "      <td>No</td>\n",
       "      <td>No</td>\n",
       "      <td>Positive</td>\n",
       "    </tr>\n",
       "    <tr>\n",
       "      <th>4</th>\n",
       "      <td>60</td>\n",
       "      <td>Male</td>\n",
       "      <td>Yes</td>\n",
       "      <td>Yes</td>\n",
       "      <td>Yes</td>\n",
       "      <td>Yes</td>\n",
       "      <td>Yes</td>\n",
       "      <td>Yes</td>\n",
       "      <td>Yes</td>\n",
       "      <td>Yes</td>\n",
       "      <td>Yes</td>\n",
       "      <td>Positive</td>\n",
       "    </tr>\n",
       "  </tbody>\n",
       "</table>\n",
       "</div>"
      ],
      "text/plain": [
       "   age gender polyuria polydipsia sudden_weight_loss polyphagia  \\\n",
       "0   40   Male       No        Yes                 No         No   \n",
       "1   58   Male       No         No                 No         No   \n",
       "2   41   Male      Yes         No                 No        Yes   \n",
       "3   45   Male       No         No                Yes        Yes   \n",
       "4   60   Male      Yes        Yes                Yes        Yes   \n",
       "\n",
       "  visual_blurring irritability delayed_healing alopecia obesity     class  \n",
       "0              No           No             Yes      Yes     Yes  Positive  \n",
       "1             Yes           No              No      Yes      No  Positive  \n",
       "2              No           No             Yes      Yes      No  Positive  \n",
       "3              No           No             Yes       No      No  Positive  \n",
       "4             Yes          Yes             Yes      Yes     Yes  Positive  "
      ]
     },
     "execution_count": 71,
     "metadata": {},
     "output_type": "execute_result"
    }
   ],
   "source": [
    "#apagar colunas difíceis de auto-avaliação\n",
    "\n",
    "del_cols = ['weakness', 'genital_thrush', 'itching', 'partial_paresis', 'muscle_stiffness']\n",
    "df.drop(columns=del_cols, inplace=True)\n",
    "df.head()\n"
   ]
  },
  {
   "cell_type": "code",
   "execution_count": 72,
   "id": "1f7e77b7",
   "metadata": {
    "scrolled": true
   },
   "outputs": [
    {
     "name": "stdout",
     "output_type": "stream",
     "text": [
      "<class 'pandas.core.frame.DataFrame'>\n",
      "RangeIndex: 520 entries, 0 to 519\n",
      "Data columns (total 12 columns):\n",
      " #   Column              Non-Null Count  Dtype \n",
      "---  ------              --------------  ----- \n",
      " 0   age                 520 non-null    int64 \n",
      " 1   gender              520 non-null    object\n",
      " 2   polyuria            520 non-null    object\n",
      " 3   polydipsia          520 non-null    object\n",
      " 4   sudden_weight_loss  520 non-null    object\n",
      " 5   polyphagia          520 non-null    object\n",
      " 6   visual_blurring     520 non-null    object\n",
      " 7   irritability        520 non-null    object\n",
      " 8   delayed_healing     520 non-null    object\n",
      " 9   alopecia            520 non-null    object\n",
      " 10  obesity             520 non-null    object\n",
      " 11  class               520 non-null    object\n",
      "dtypes: int64(1), object(11)\n",
      "memory usage: 48.9+ KB\n"
     ]
    }
   ],
   "source": [
    "df.info()"
   ]
  },
  {
   "cell_type": "markdown",
   "id": "409b3a69",
   "metadata": {},
   "source": [
    "Agora temos 12 colunas ao todo. 11 de features e 1 de target (class). "
   ]
  },
  {
   "cell_type": "code",
   "execution_count": 73,
   "id": "0e2c4836",
   "metadata": {},
   "outputs": [
    {
     "data": {
      "text/html": [
       "<div>\n",
       "<style scoped>\n",
       "    .dataframe tbody tr th:only-of-type {\n",
       "        vertical-align: middle;\n",
       "    }\n",
       "\n",
       "    .dataframe tbody tr th {\n",
       "        vertical-align: top;\n",
       "    }\n",
       "\n",
       "    .dataframe thead th {\n",
       "        text-align: right;\n",
       "    }\n",
       "</style>\n",
       "<table border=\"1\" class=\"dataframe\">\n",
       "  <thead>\n",
       "    <tr style=\"text-align: right;\">\n",
       "      <th></th>\n",
       "      <th>age</th>\n",
       "      <th>gender</th>\n",
       "      <th>polyuria</th>\n",
       "      <th>polydipsia</th>\n",
       "      <th>sudden_weight_loss</th>\n",
       "      <th>polyphagia</th>\n",
       "      <th>visual_blurring</th>\n",
       "      <th>irritability</th>\n",
       "      <th>delayed_healing</th>\n",
       "      <th>alopecia</th>\n",
       "      <th>obesity</th>\n",
       "      <th>class</th>\n",
       "    </tr>\n",
       "  </thead>\n",
       "  <tbody>\n",
       "    <tr>\n",
       "      <th>0</th>\n",
       "      <td>40</td>\n",
       "      <td>0</td>\n",
       "      <td>0</td>\n",
       "      <td>1</td>\n",
       "      <td>0</td>\n",
       "      <td>0</td>\n",
       "      <td>0</td>\n",
       "      <td>0</td>\n",
       "      <td>1</td>\n",
       "      <td>1</td>\n",
       "      <td>1</td>\n",
       "      <td>1</td>\n",
       "    </tr>\n",
       "    <tr>\n",
       "      <th>1</th>\n",
       "      <td>58</td>\n",
       "      <td>0</td>\n",
       "      <td>0</td>\n",
       "      <td>0</td>\n",
       "      <td>0</td>\n",
       "      <td>0</td>\n",
       "      <td>1</td>\n",
       "      <td>0</td>\n",
       "      <td>0</td>\n",
       "      <td>1</td>\n",
       "      <td>0</td>\n",
       "      <td>1</td>\n",
       "    </tr>\n",
       "    <tr>\n",
       "      <th>2</th>\n",
       "      <td>41</td>\n",
       "      <td>0</td>\n",
       "      <td>1</td>\n",
       "      <td>0</td>\n",
       "      <td>0</td>\n",
       "      <td>1</td>\n",
       "      <td>0</td>\n",
       "      <td>0</td>\n",
       "      <td>1</td>\n",
       "      <td>1</td>\n",
       "      <td>0</td>\n",
       "      <td>1</td>\n",
       "    </tr>\n",
       "    <tr>\n",
       "      <th>3</th>\n",
       "      <td>45</td>\n",
       "      <td>0</td>\n",
       "      <td>0</td>\n",
       "      <td>0</td>\n",
       "      <td>1</td>\n",
       "      <td>1</td>\n",
       "      <td>0</td>\n",
       "      <td>0</td>\n",
       "      <td>1</td>\n",
       "      <td>0</td>\n",
       "      <td>0</td>\n",
       "      <td>1</td>\n",
       "    </tr>\n",
       "    <tr>\n",
       "      <th>4</th>\n",
       "      <td>60</td>\n",
       "      <td>0</td>\n",
       "      <td>1</td>\n",
       "      <td>1</td>\n",
       "      <td>1</td>\n",
       "      <td>1</td>\n",
       "      <td>1</td>\n",
       "      <td>1</td>\n",
       "      <td>1</td>\n",
       "      <td>1</td>\n",
       "      <td>1</td>\n",
       "      <td>1</td>\n",
       "    </tr>\n",
       "  </tbody>\n",
       "</table>\n",
       "</div>"
      ],
      "text/plain": [
       "   age  gender  polyuria  polydipsia  sudden_weight_loss  polyphagia  \\\n",
       "0   40       0         0           1                   0           0   \n",
       "1   58       0         0           0                   0           0   \n",
       "2   41       0         1           0                   0           1   \n",
       "3   45       0         0           0                   1           1   \n",
       "4   60       0         1           1                   1           1   \n",
       "\n",
       "   visual_blurring  irritability  delayed_healing  alopecia  obesity  class  \n",
       "0                0             0                1         1        1      1  \n",
       "1                1             0                0         1        0      1  \n",
       "2                0             0                1         1        0      1  \n",
       "3                0             0                1         0        0      1  \n",
       "4                1             1                1         1        1      1  "
      ]
     },
     "execution_count": 73,
     "metadata": {},
     "output_type": "execute_result"
    }
   ],
   "source": [
    "#substituir valores de string por logicos 1 e 0\n",
    "# Yes e Positive são 1. Male é 0 e Female é 1.\n",
    "df.replace({'Yes': 1, 'No': 0, 'Positive': 1, 'Negative': 0, 'Female': 1, 'Male': 0}, inplace=True)\n",
    "df.head()"
   ]
  },
  {
   "cell_type": "code",
   "execution_count": 74,
   "id": "c4b9c932",
   "metadata": {},
   "outputs": [
    {
     "data": {
      "text/plain": [
       "0.6153846153846154"
      ]
     },
     "execution_count": 74,
     "metadata": {},
     "output_type": "execute_result"
    }
   ],
   "source": [
    "#ver o balanceamento de classe de class\n",
    "df['class'].sum()/len(df)"
   ]
  },
  {
   "cell_type": "markdown",
   "id": "c9d04f84",
   "metadata": {},
   "source": [
    "62% de entradas positivas para diabetes (vs 38% negativas)"
   ]
  },
  {
   "cell_type": "code",
   "execution_count": 75,
   "id": "a715e8f1",
   "metadata": {
    "scrolled": false
   },
   "outputs": [
    {
     "name": "stdout",
     "output_type": "stream",
     "text": [
      "age: \n",
      "48.02884615384615\n",
      "\n",
      "gender: \n",
      "0.36923076923076925\n",
      "\n",
      "polyuria: \n",
      "0.49615384615384617\n",
      "\n",
      "polydipsia: \n",
      "0.4480769230769231\n",
      "\n",
      "sudden_weight_loss: \n",
      "0.4173076923076923\n",
      "\n",
      "polyphagia: \n",
      "0.45576923076923076\n",
      "\n",
      "visual_blurring: \n",
      "0.4480769230769231\n",
      "\n",
      "irritability: \n",
      "0.2423076923076923\n",
      "\n",
      "delayed_healing: \n",
      "0.4596153846153846\n",
      "\n",
      "alopecia: \n",
      "0.34423076923076923\n",
      "\n",
      "obesity: \n",
      "0.16923076923076924\n",
      "\n",
      "class: \n",
      "0.6153846153846154\n",
      "\n"
     ]
    }
   ],
   "source": [
    "#verificar imbalanceamento para diferentes colunas\n",
    "for column in df.columns:\n",
    "    rel_freq = df[column].sum()/len(df)\n",
    "    print(f'{column}: \\n{rel_freq}\\n')"
   ]
  },
  {
   "cell_type": "markdown",
   "id": "d818e935",
   "metadata": {},
   "source": [
    "Ignorando 'age', as classes mais desbalanceadas são: gender (com 37% mulheres), irritabilidade (com 24% sim), e obesidade (com 17%)."
   ]
  },
  {
   "cell_type": "code",
   "execution_count": 76,
   "id": "6a5138de",
   "metadata": {},
   "outputs": [
    {
     "data": {
      "image/png": "[encoded data removed]",
      "text/plain": [
       "<Figure size 640x480 with 1 Axes>"
      ]
     },
     "metadata": {},
     "output_type": "display_data"
    }
   ],
   "source": [
    "# Define age intervals (bins)\n",
    "age_bins = [20, 30, 40, 50, 60, 70, 100]\n",
    "\n",
    "# criar intervalos para idade usando pd.cut\n",
    "df['age_intervals'] = pd.cut(df['age'], bins=age_bins)\n",
    "\n",
    "# calcular a frequencia relativa de 'class' dentro de cada intervalo\n",
    "relative_freq = df.groupby(['age_intervals', 'class']).size().unstack(fill_value=0)\n",
    "relative_freq = relative_freq.div(relative_freq.sum(axis=1), axis=0)\n",
    "\n",
    "# Plotar gráfico de barras\n",
    "ax = relative_freq.plot(kind='bar', stacked=True)\n",
    "ax.set_ylabel('Relative Frequency')\n",
    "ax.set_xlabel('Age Intervals')\n",
    "\n",
    "plt.title('Relative Frequency of \"class\" by Age Intervals')\n",
    "plt.xticks(rotation=0)\n",
    "plt.legend(title='class')\n",
    "plt.show()"
   ]
  },
  {
   "cell_type": "markdown",
   "id": "914f7507",
   "metadata": {},
   "source": [
    "Até aos 30 anos, a frequência de diabetes é menor, mas mantém-se mais ou menos constante com a idade"
   ]
  },
  {
   "cell_type": "markdown",
   "id": "8199ce72",
   "metadata": {},
   "source": [
    "## 3 Otimização de modelos ML"
   ]
  },
  {
   "cell_type": "markdown",
   "id": "0e095c95",
   "metadata": {},
   "source": [
    "### Ajuste dos dados e Separação em teste e treino"
   ]
  },
  {
   "cell_type": "code",
   "execution_count": 79,
   "id": "2a5a234e",
   "metadata": {},
   "outputs": [],
   "source": [
    "# dividir em festures e target\n",
    "X = df.drop(columns = ['class', 'age_intervals'])\n",
    "y = df['class']\n",
    "X_train, X_test, y_train, y_test = train_test_split(X, y, test_size=0.2, random_state=42)"
   ]
  },
  {
   "cell_type": "code",
   "execution_count": 80,
   "id": "b8ff66bd",
   "metadata": {},
   "outputs": [],
   "source": [
    "#scaling dos dados\n",
    "#colunas numéricas\n",
    "numeric = ['age']\n",
    "\n",
    "#preparaçãoda variável de escalonamento com as colunas numéricas do treino\n",
    "scaler = StandardScaler()\n",
    "scaler.fit(X_train[numeric])\n",
    "\n",
    "#transformação da coluna com scaling\n",
    "X_train[numeric] = scaler.transform(X_train[numeric])\n",
    "X_test[numeric] = scaler.transform(X_test[numeric])"
   ]
  },
  {
   "cell_type": "markdown",
   "id": "ce754182",
   "metadata": {},
   "source": [
    "**Com os dados prontos, vamos otimizar os modelos.**  \n",
    "- usaremos bootstrap para evitar viés no fitting dos modelos\n",
    "- as métricas a usar serão\n",
    "    - recall: melhor que precisão neste caso porque é preferível sobre-estimar os casos positivos\n",
    "    - F1: para garantir que não há um exagero da sobre-estimação, então é uma métrica que toma em conta ambos o recall e precisão"
   ]
  },
  {
   "cell_type": "markdown",
   "id": "001f6005",
   "metadata": {},
   "source": [
    "### Regressão logística"
   ]
  },
  {
   "cell_type": "code",
   "execution_count": 85,
   "id": "2b365d30",
   "metadata": {
    "scrolled": true
   },
   "outputs": [
    {
     "name": "stdout",
     "output_type": "stream",
     "text": [
      "F1 Score on Training Set: 0.923076923076923\n",
      "Recall Score on Training Set: 0.9156626506024096\n"
     ]
    }
   ],
   "source": [
    "# Logistic Regression\n",
    "model = LogisticRegression()\n",
    "\n",
    "#fazer bootstraping para obter dados mais fidedignos (y_predicted contem as predições de todos os folds)\n",
    "y_predicted = cross_val_predict(model, X_train, y_train, cv=4)\n",
    "\n",
    "lr_f1 = f1_score(y_train, y_predicted)\n",
    "lr_recall = recall_score(y_train, y_predicted)\n",
    "\n",
    "\n",
    "print('F1 Score on Training Set:', lr_f1)\n",
    "print('Recall Score on Training Set:', lr_recall)"
   ]
  },
  {
   "cell_type": "markdown",
   "id": "a9850479",
   "metadata": {},
   "source": [
    "**O modelo com melhor valor de recall é também o de maior F1.**  \n",
    " \n",
    "**Recall:0.923**  \n",
    "**F1: 0.916**"
   ]
  }
 ],
 "metadata": {
  "kernelspec": {
   "display_name": "Python 3 (ipykernel)",
   "language": "python",
   "name": "python3"
  },
  "language_info": {
   "codemirror_mode": {
    "name": "ipython",
    "version": 3
   },
   "file_extension": ".py",
   "mimetype": "text/x-python",
   "name": "python",
   "nbconvert_exporter": "python",
   "pygments_lexer": "ipython3",
   "version": "3.9.13"
  }
 },
 "nbformat": 4,
 "nbformat_minor": 5
}
