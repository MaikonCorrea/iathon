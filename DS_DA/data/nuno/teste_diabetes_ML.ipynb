{
 "cells": [
  {
   "cell_type": "markdown",
   "id": "dc38c80b",
   "metadata": {
    "ExecuteTime": {
     "end_time": "2023-09-26T00:17:44.863550Z",
     "start_time": "2023-09-26T00:17:44.840368Z"
    }
   },
   "source": [
    "# Teste do modelo preditivo de diabetes "
   ]
  },
  {
   "cell_type": "code",
   "execution_count": 1,
   "id": "e844ccb9",
   "metadata": {
    "ExecuteTime": {
     "end_time": "2023-09-26T00:41:52.148252Z",
     "start_time": "2023-09-26T00:41:49.662853Z"
    }
   },
   "outputs": [],
   "source": [
    "import joblib\n",
    "import pandas as pd\n",
    "import random"
   ]
  },
  {
   "cell_type": "code",
   "execution_count": 2,
   "id": "d9d35f0c",
   "metadata": {
    "ExecuteTime": {
     "end_time": "2023-09-26T00:41:56.276098Z",
     "start_time": "2023-09-26T00:41:52.160970Z"
    }
   },
   "outputs": [],
   "source": [
    "# Carregar o modelo treinado\n",
    "model = joblib.load('iathon_diabetes_prediction_sylhetdb_rf_model.pkl')"
   ]
  },
  {
   "cell_type": "code",
   "execution_count": 3,
   "id": "96c08461",
   "metadata": {
    "ExecuteTime": {
     "end_time": "2023-09-26T00:41:56.307035Z",
     "start_time": "2023-09-26T00:41:56.281093Z"
    }
   },
   "outputs": [],
   "source": [
    "# Gerar 10 testes com dados aleatórios\n",
    "dados_teste = {\n",
    "    'age': [random.randint(20, 70) for _ in range(10)],\n",
    "    'gender': [random.choice(['1', '0']) for _ in range(10)],\n",
    "    'polyuria': [random.choice(['1', '0']) for _ in range(10)],\n",
    "    'polydipsia': [random.choice(['1', '0']) for _ in range(10)],\n",
    "    'sudden_weight_loss': [random.choice(['1', '0']) for _ in range(10)],\n",
    "    'polyphagia': [random.choice(['1', '0']) for _ in range(10)],\n",
    "    'visual_blurring': [random.choice(['1', '0']) for _ in range(10)],\n",
    "    'irritability': [random.choice(['1', '0']) for _ in range(10)],\n",
    "    'delayed_healing': [random.choice(['1', '0']) for _ in range(10)],\n",
    "    'alopecia': [random.choice(['1', '0']) for _ in range(10)],\n",
    "    'obesity': [random.choice(['1', '0']) for _ in range(10)]\n",
    "}"
   ]
  },
  {
   "cell_type": "code",
   "execution_count": 4,
   "id": "69a49fcc",
   "metadata": {
    "ExecuteTime": {
     "end_time": "2023-09-26T00:41:56.400313Z",
     "start_time": "2023-09-26T00:41:56.314821Z"
    },
    "scrolled": false
   },
   "outputs": [
    {
     "name": "stdout",
     "output_type": "stream",
     "text": [
      "Teste 1\n",
      "Dados de Entrada:\n",
      "age: 49\n",
      "gender: 1\n",
      "polyuria: 0\n",
      "polydipsia: 0\n",
      "sudden_weight_loss: 0\n",
      "polyphagia: 1\n",
      "visual_blurring: 1\n",
      "irritability: 1\n",
      "delayed_healing: 1\n",
      "alopecia: 0\n",
      "obesity: 0\n",
      "Previsão: 1\n",
      "\n",
      "Teste 2\n",
      "Dados de Entrada:\n",
      "age: 24\n",
      "gender: 0\n",
      "polyuria: 0\n",
      "polydipsia: 0\n",
      "sudden_weight_loss: 1\n",
      "polyphagia: 0\n",
      "visual_blurring: 1\n",
      "irritability: 1\n",
      "delayed_healing: 1\n",
      "alopecia: 0\n",
      "obesity: 1\n",
      "Previsão: 1\n",
      "\n",
      "Teste 3\n",
      "Dados de Entrada:\n",
      "age: 41\n",
      "gender: 0\n",
      "polyuria: 0\n",
      "polydipsia: 0\n",
      "sudden_weight_loss: 1\n",
      "polyphagia: 0\n",
      "visual_blurring: 1\n",
      "irritability: 0\n",
      "delayed_healing: 0\n",
      "alopecia: 1\n",
      "obesity: 0\n",
      "Previsão: 0\n",
      "\n",
      "Teste 4\n",
      "Dados de Entrada:\n",
      "age: 32\n",
      "gender: 0\n",
      "polyuria: 0\n",
      "polydipsia: 1\n",
      "sudden_weight_loss: 0\n",
      "polyphagia: 0\n",
      "visual_blurring: 1\n",
      "irritability: 1\n",
      "delayed_healing: 1\n",
      "alopecia: 1\n",
      "obesity: 1\n",
      "Previsão: 1\n",
      "\n",
      "Teste 5\n",
      "Dados de Entrada:\n",
      "age: 64\n",
      "gender: 1\n",
      "polyuria: 0\n",
      "polydipsia: 0\n",
      "sudden_weight_loss: 1\n",
      "polyphagia: 0\n",
      "visual_blurring: 0\n",
      "irritability: 0\n",
      "delayed_healing: 1\n",
      "alopecia: 1\n",
      "obesity: 1\n",
      "Previsão: 0\n",
      "\n",
      "Teste 6\n",
      "Dados de Entrada:\n",
      "age: 21\n",
      "gender: 1\n",
      "polyuria: 0\n",
      "polydipsia: 1\n",
      "sudden_weight_loss: 0\n",
      "polyphagia: 0\n",
      "visual_blurring: 1\n",
      "irritability: 0\n",
      "delayed_healing: 1\n",
      "alopecia: 1\n",
      "obesity: 0\n",
      "Previsão: 0\n",
      "\n",
      "Teste 7\n",
      "Dados de Entrada:\n",
      "age: 29\n",
      "gender: 0\n",
      "polyuria: 0\n",
      "polydipsia: 1\n",
      "sudden_weight_loss: 0\n",
      "polyphagia: 1\n",
      "visual_blurring: 1\n",
      "irritability: 0\n",
      "delayed_healing: 1\n",
      "alopecia: 0\n",
      "obesity: 1\n",
      "Previsão: 0\n",
      "\n",
      "Teste 8\n",
      "Dados de Entrada:\n",
      "age: 70\n",
      "gender: 0\n",
      "polyuria: 0\n",
      "polydipsia: 1\n",
      "sudden_weight_loss: 0\n",
      "polyphagia: 0\n",
      "visual_blurring: 0\n",
      "irritability: 0\n",
      "delayed_healing: 1\n",
      "alopecia: 1\n",
      "obesity: 1\n",
      "Previsão: 1\n",
      "\n",
      "Teste 9\n",
      "Dados de Entrada:\n",
      "age: 59\n",
      "gender: 0\n",
      "polyuria: 0\n",
      "polydipsia: 0\n",
      "sudden_weight_loss: 1\n",
      "polyphagia: 1\n",
      "visual_blurring: 1\n",
      "irritability: 1\n",
      "delayed_healing: 0\n",
      "alopecia: 1\n",
      "obesity: 1\n",
      "Previsão: 0\n",
      "\n",
      "Teste 10\n",
      "Dados de Entrada:\n",
      "age: 47\n",
      "gender: 1\n",
      "polyuria: 0\n",
      "polydipsia: 1\n",
      "sudden_weight_loss: 1\n",
      "polyphagia: 0\n",
      "visual_blurring: 0\n",
      "irritability: 0\n",
      "delayed_healing: 0\n",
      "alopecia: 0\n",
      "obesity: 1\n",
      "Previsão: 1\n",
      "\n"
     ]
    }
   ],
   "source": [
    "# Criar um DataFrame Pandas com os dados de teste\n",
    "dados_teste_df = pd.DataFrame(dados_teste)\n",
    "\n",
    "# Fazer as previsões usando o modelo para os 10 testes\n",
    "previsoes = model.predict(dados_teste_df)\n",
    "\n",
    "# Imprimir os resultados das previsões juntamente com os dados de entrada\n",
    "for i in range(10):\n",
    "    print(f'Teste {i + 1}')\n",
    "    print('Dados de Entrada:')\n",
    "    for col, valor in dados_teste_df.iloc[i].items():\n",
    "        print(f'{col}: {valor}')\n",
    "    print(f'Previsão: {previsoes[i]}\\n')"
   ]
  },
  {
   "cell_type": "code",
   "execution_count": 5,
   "id": "ecb5b86e",
   "metadata": {
    "ExecuteTime": {
     "end_time": "2023-09-26T00:41:56.448057Z",
     "start_time": "2023-09-26T00:41:56.421299Z"
    }
   },
   "outputs": [],
   "source": [
    "# Contar o número de diabéticos (classe 1) e não diabéticos (classe 0)\n",
    "num_diabeticos = sum(previsoes)\n",
    "num_nao_diabeticos = len(previsoes) - num_diabeticos"
   ]
  },
  {
   "cell_type": "code",
   "execution_count": 6,
   "id": "118a89e5",
   "metadata": {
    "ExecuteTime": {
     "end_time": "2023-09-26T00:41:56.498026Z",
     "start_time": "2023-09-26T00:41:56.459050Z"
    }
   },
   "outputs": [],
   "source": [
    "# Calcular o percentual\n",
    "percentual_diabeticos = (num_diabeticos / len(previsoes)) * 100\n",
    "percentual_nao_diabeticos = (num_nao_diabeticos / len(previsoes)) * 100"
   ]
  },
  {
   "cell_type": "code",
   "execution_count": 7,
   "id": "e00eb2a4",
   "metadata": {
    "ExecuteTime": {
     "end_time": "2023-09-26T00:41:56.560997Z",
     "start_time": "2023-09-26T00:41:56.515016Z"
    }
   },
   "outputs": [
    {
     "name": "stdout",
     "output_type": "stream",
     "text": [
      "Percentual de Diabéticos: 50.00%\n",
      "Percentual de Não Diabéticos: 50.00%\n"
     ]
    }
   ],
   "source": [
    "print(f'Percentual de Diabéticos: {percentual_diabeticos:.2f}%')\n",
    "print(f'Percentual de Não Diabéticos: {percentual_nao_diabeticos:.2f}%')"
   ]
  }
 ],
 "metadata": {
  "hide_input": false,
  "kernelspec": {
   "display_name": "Python 3 (ipykernel)",
   "language": "python",
   "name": "python3"
  },
  "language_info": {
   "codemirror_mode": {
    "name": "ipython",
    "version": 3
   },
   "file_extension": ".py",
   "mimetype": "text/x-python",
   "name": "python",
   "nbconvert_exporter": "python",
   "pygments_lexer": "ipython3",
   "version": "3.10.9"
  },
  "nbTranslate": {
   "displayLangs": [
    "*"
   ],
   "hotkey": "alt-t",
   "langInMainMenu": true,
   "sourceLang": "en",
   "targetLang": "fr",
   "useGoogleTranslate": true
  },
  "toc": {
   "base_numbering": 1,
   "nav_menu": {},
   "number_sections": true,
   "sideBar": true,
   "skip_h1_title": false,
   "title_cell": "Table of Contents",
   "title_sidebar": "Contents",
   "toc_cell": false,
   "toc_position": {},
   "toc_section_display": true,
   "toc_window_display": false
  },
  "varInspector": {
   "cols": {
    "lenName": 16,
    "lenType": 16,
    "lenVar": 40
   },
   "kernels_config": {
    "python": {
     "delete_cmd_postfix": "",
     "delete_cmd_prefix": "del ",
     "library": "var_list.py",
     "varRefreshCmd": "print(var_dic_list())"
    },
    "r": {
     "delete_cmd_postfix": ") ",
     "delete_cmd_prefix": "rm(",
     "library": "var_list.r",
     "varRefreshCmd": "cat(var_dic_list()) "
    }
   },
   "types_to_exclude": [
    "module",
    "function",
    "builtin_function_or_method",
    "instance",
    "_Feature"
   ],
   "window_display": false
  }
 },
 "nbformat": 4,
 "nbformat_minor": 5
}
