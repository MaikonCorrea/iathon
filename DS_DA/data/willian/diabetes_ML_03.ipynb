{
 "cells": [
  {
   "cell_type": "markdown",
   "id": "957e6998",
   "metadata": {},
   "source": [
    "## Modelos de Machine Learning para Identificar Pessoas com Risco de Diabetes"
   ]
  },
  {
   "cell_type": "markdown",
   "id": "ff5ab97f",
   "metadata": {},
   "source": [
    "# Contextualização"
   ]
  },
  {
   "cell_type": "markdown",
   "id": "052c87cc",
   "metadata": {},
   "source": [
    "A diabetes é uma das doenças crônicas mais prevalentes e de crescimento alarmante em todo o mundo. Ela afeta milhões de pessoas, causando impactos significativos na saúde e na qualidade de vida. A diabetes não apenas representa uma carga substancial para os sistemas de saúde, mas também impõe desafios pessoais e econômicos para aqueles que vivem com a doença.\n",
    "\n",
    "Diante desse cenário,nosso objetivo é  encontrar maneiras eficazes de prever o risco de desenvolvimento da diabetes em indivíduos, a fim de possibilitar intervenções precoces e estratégias de prevenção direcionadas.\n",
    "\n",
    "É nesse contexto que nosso projeto de predição de diabetes se torna relevante. Nossa missão é construir um modelo de inteligência artificial (IA) que utilize dados fáceis de preencher por qualquer pessoa, eliminando a necessidade de exames de sangue ou procedimentos invasivos e complexos. O objetivo central é prever com precisão se as pessoas são propensas a desenvolver diabetes com base em informações simples e acessíveis."
   ]
  },
  {
   "cell_type": "markdown",
   "id": "58965c73",
   "metadata": {},
   "source": [
    "## Roteiro para o Projeto de Predição de Diabetes\n",
    "\n",
    "\n",
    "### Etapa 1: Coletar Dados\n",
    "\n",
    "- **Identificar Fontes de Dados**: Identificar as fontes de dados disponíveis, como conjuntos de dados públicos relacionados à diabetes.\n",
    "\n",
    "- **Obter os Dados**: Adquirir os dados necessários, seja baixando conjuntos de dados públicos ou coletando dados relevantes, se aplicável.\n",
    "\n",
    "### Etapa 2: Pré-processar os Dados\n",
    "\n",
    "- **Limpar os Dados**: Realizar a limpeza inicial dos dados, tratando valores ausentes e inconsistentes.\n",
    "\n",
    "- **Transformar os Dados**: Realizar transformações nos dados, se necessário, como codificação de variáveis categóricas.\n",
    "\n",
    "### Etapa 3: Explorar os Dados e Análisar\n",
    "\n",
    "- **Realizar Análise Descritiva**: Realizar uma análise descritiva dos dados para entender as características e tendências dos dados.\n",
    "\n",
    "- **Criar Visualizações de Dados**: Criar visualizações gráficas para representar os dados de forma eficaz.\n",
    "\n",
    "### Etapa 4: Fazer Engenharia de Recursos\n",
    "\n",
    "- **Selecionar Recursos**: Identificar os recursos mais relevantes para a previsão da diabetes.\n",
    "\n",
    "- **Desenvolver Recursos**: Desenvolver recursos adicionais, se necessário, com base no conhecimento do domínio.\n",
    "\n",
    "### Etapa 5: Modelar\n",
    "\n",
    "- **Dividir o Conjunto de Dados**: Separar os dados em conjuntos de treinamento e teste.\n",
    "\n",
    "- **Escolher o Modelo**: Selecionar algoritmos de aprendizado de máquina adequados para criar o modelo de previsão.\n",
    "\n",
    "- **Treinar o Modelo**: Treinar o modelo nos dados de treinamento.\n",
    "\n",
    "### Etapa 6: Avaliar o Modelo\n",
    "\n",
    "- **Avaliar o Desempenho**: Avaliar o desempenho do modelo usando métricas relevantes, como precisão, recall, F1-score e ROC-AUC, dependendo da natureza do problema.\n",
    "\n",
    "- **Ajustar Hiperparâmetros**: Ajustar os hiperparâmetros do modelo para melhorar o desempenho.\n",
    "\n",
    "### Etapa 7: Validar e Interpretar\n",
    "\n",
    "- **Realizar Validação Cruzada**: Realizar a validação cruzada para avaliar a generalização do modelo.\n",
    "\n",
    "- **Interpretar o Modelo**: Compreender a importância das características e interpretar as decisões do modelo.\n",
    "\n",
    "### Etapa 8: Implantar e Tornar Acessível\n",
    "\n",
    "- **Implementar de Forma Acessível**: Desenvolver uma interface acessível para coletar dados não invasivos dos usuários.\n",
    "\n",
    "- **Implantar o Modelo**: Implantar o modelo de IA em um ambiente acessível.\n",
    "\n",
    "### Etapa 9: Comunicar e Documentar\n",
    "\n",
    "- **Comunicar os Resultados**: Apresentar os resultados de forma clara e compreensível para o público-alvo.\n",
    "\n",
    "- **Documentar**: Criar uma documentação abrangente do projeto, incluindo informações sobre o modelo, dados e procedimentos.\n",
    "\n",
    "### Etapa 10: Monitorar e Manter\n",
    "\n",
    "- **Monitorar Continuamente**: Estabelecer um sistema de monitoramento contínuo para garantir que o modelo esteja funcionando corretamente.\n",
    "\n",
    "- **Manter**: Manter o modelo e os dados atualizados, conforme necessário.\n"
   ]
  },
  {
   "cell_type": "markdown",
   "id": "e65c230d",
   "metadata": {},
   "source": [
    "## Inicialização"
   ]
  },
  {
   "cell_type": "code",
   "execution_count": 27,
   "id": "79ab6f8b",
   "metadata": {
    "ExecuteTime": {
     "end_time": "2023-09-25T02:21:31.331296Z",
     "start_time": "2023-09-25T02:21:23.749969Z"
    }
   },
   "outputs": [],
   "source": [
    "# Importar bibliotecas importantes\n",
    "import pandas as pd \n",
    "import matplotlib.pyplot as plt\n",
    "import seaborn as sns"
   ]
  },
  {
   "cell_type": "code",
   "execution_count": 14,
   "id": "4367e40a",
   "metadata": {
    "ExecuteTime": {
     "end_time": "2023-09-25T01:13:22.483407Z",
     "start_time": "2023-09-25T01:13:22.457424Z"
    }
   },
   "outputs": [],
   "source": [
    "# ler arquivo e armazenar os dados no DataFrame df\n",
    "df = pd.read_csv('diabetes_data_upload.csv')"
   ]
  },
  {
   "cell_type": "markdown",
   "id": "33c217b7",
   "metadata": {},
   "source": [
    "O nosso conjunto de dados [Early stage diabetes risk prediction dataset](https://archive.ics.uci.edu/dataset/529/early+stage+diabetes+risk+prediction+dataset) provém do repositório da `UCI Machine Learning Repository`, que é uma fonte de dados mantida pela `UCI (Universidade da Califórnia, Irvine)`.\n",
    "\n",
    "**Informações adicionais**\n",
    "\n",
    "Os dados foram recolhidos através de questionários diretos dos pacientes do Sylhet Diabetes Hospital em Sylhet, Bangladesh, e aprovados por um médico."
   ]
  },
  {
   "cell_type": "markdown",
   "id": "c7f5feb9",
   "metadata": {},
   "source": [
    "## Pré-Processamento dos Dados"
   ]
  },
  {
   "cell_type": "code",
   "execution_count": 15,
   "id": "bef59320",
   "metadata": {
    "ExecuteTime": {
     "end_time": "2023-09-25T01:37:11.547918Z",
     "start_time": "2023-09-25T01:37:11.491952Z"
    }
   },
   "outputs": [
    {
     "data": {
      "text/html": [
       "<div>\n",
       "<style scoped>\n",
       "    .dataframe tbody tr th:only-of-type {\n",
       "        vertical-align: middle;\n",
       "    }\n",
       "\n",
       "    .dataframe tbody tr th {\n",
       "        vertical-align: top;\n",
       "    }\n",
       "\n",
       "    .dataframe thead th {\n",
       "        text-align: right;\n",
       "    }\n",
       "</style>\n",
       "<table border=\"1\" class=\"dataframe\">\n",
       "  <thead>\n",
       "    <tr style=\"text-align: right;\">\n",
       "      <th></th>\n",
       "      <th>Age</th>\n",
       "      <th>Gender</th>\n",
       "      <th>Polyuria</th>\n",
       "      <th>Polydipsia</th>\n",
       "      <th>sudden weight loss</th>\n",
       "      <th>weakness</th>\n",
       "      <th>Polyphagia</th>\n",
       "      <th>Genital thrush</th>\n",
       "      <th>visual blurring</th>\n",
       "      <th>Itching</th>\n",
       "      <th>Irritability</th>\n",
       "      <th>delayed healing</th>\n",
       "      <th>partial paresis</th>\n",
       "      <th>muscle stiffness</th>\n",
       "      <th>Alopecia</th>\n",
       "      <th>Obesity</th>\n",
       "      <th>class</th>\n",
       "    </tr>\n",
       "  </thead>\n",
       "  <tbody>\n",
       "    <tr>\n",
       "      <th>0</th>\n",
       "      <td>40</td>\n",
       "      <td>Male</td>\n",
       "      <td>No</td>\n",
       "      <td>Yes</td>\n",
       "      <td>No</td>\n",
       "      <td>Yes</td>\n",
       "      <td>No</td>\n",
       "      <td>No</td>\n",
       "      <td>No</td>\n",
       "      <td>Yes</td>\n",
       "      <td>No</td>\n",
       "      <td>Yes</td>\n",
       "      <td>No</td>\n",
       "      <td>Yes</td>\n",
       "      <td>Yes</td>\n",
       "      <td>Yes</td>\n",
       "      <td>Positive</td>\n",
       "    </tr>\n",
       "    <tr>\n",
       "      <th>1</th>\n",
       "      <td>58</td>\n",
       "      <td>Male</td>\n",
       "      <td>No</td>\n",
       "      <td>No</td>\n",
       "      <td>No</td>\n",
       "      <td>Yes</td>\n",
       "      <td>No</td>\n",
       "      <td>No</td>\n",
       "      <td>Yes</td>\n",
       "      <td>No</td>\n",
       "      <td>No</td>\n",
       "      <td>No</td>\n",
       "      <td>Yes</td>\n",
       "      <td>No</td>\n",
       "      <td>Yes</td>\n",
       "      <td>No</td>\n",
       "      <td>Positive</td>\n",
       "    </tr>\n",
       "    <tr>\n",
       "      <th>2</th>\n",
       "      <td>41</td>\n",
       "      <td>Male</td>\n",
       "      <td>Yes</td>\n",
       "      <td>No</td>\n",
       "      <td>No</td>\n",
       "      <td>Yes</td>\n",
       "      <td>Yes</td>\n",
       "      <td>No</td>\n",
       "      <td>No</td>\n",
       "      <td>Yes</td>\n",
       "      <td>No</td>\n",
       "      <td>Yes</td>\n",
       "      <td>No</td>\n",
       "      <td>Yes</td>\n",
       "      <td>Yes</td>\n",
       "      <td>No</td>\n",
       "      <td>Positive</td>\n",
       "    </tr>\n",
       "    <tr>\n",
       "      <th>3</th>\n",
       "      <td>45</td>\n",
       "      <td>Male</td>\n",
       "      <td>No</td>\n",
       "      <td>No</td>\n",
       "      <td>Yes</td>\n",
       "      <td>Yes</td>\n",
       "      <td>Yes</td>\n",
       "      <td>Yes</td>\n",
       "      <td>No</td>\n",
       "      <td>Yes</td>\n",
       "      <td>No</td>\n",
       "      <td>Yes</td>\n",
       "      <td>No</td>\n",
       "      <td>No</td>\n",
       "      <td>No</td>\n",
       "      <td>No</td>\n",
       "      <td>Positive</td>\n",
       "    </tr>\n",
       "    <tr>\n",
       "      <th>4</th>\n",
       "      <td>60</td>\n",
       "      <td>Male</td>\n",
       "      <td>Yes</td>\n",
       "      <td>Yes</td>\n",
       "      <td>Yes</td>\n",
       "      <td>Yes</td>\n",
       "      <td>Yes</td>\n",
       "      <td>No</td>\n",
       "      <td>Yes</td>\n",
       "      <td>Yes</td>\n",
       "      <td>Yes</td>\n",
       "      <td>Yes</td>\n",
       "      <td>Yes</td>\n",
       "      <td>Yes</td>\n",
       "      <td>Yes</td>\n",
       "      <td>Yes</td>\n",
       "      <td>Positive</td>\n",
       "    </tr>\n",
       "  </tbody>\n",
       "</table>\n",
       "</div>"
      ],
      "text/plain": [
       "   Age Gender Polyuria Polydipsia sudden weight loss weakness Polyphagia  \\\n",
       "0   40   Male       No        Yes                 No      Yes         No   \n",
       "1   58   Male       No         No                 No      Yes         No   \n",
       "2   41   Male      Yes         No                 No      Yes        Yes   \n",
       "3   45   Male       No         No                Yes      Yes        Yes   \n",
       "4   60   Male      Yes        Yes                Yes      Yes        Yes   \n",
       "\n",
       "  Genital thrush visual blurring Itching Irritability delayed healing  \\\n",
       "0             No              No     Yes           No             Yes   \n",
       "1             No             Yes      No           No              No   \n",
       "2             No              No     Yes           No             Yes   \n",
       "3            Yes              No     Yes           No             Yes   \n",
       "4             No             Yes     Yes          Yes             Yes   \n",
       "\n",
       "  partial paresis muscle stiffness Alopecia Obesity     class  \n",
       "0              No              Yes      Yes     Yes  Positive  \n",
       "1             Yes               No      Yes      No  Positive  \n",
       "2              No              Yes      Yes      No  Positive  \n",
       "3              No               No       No      No  Positive  \n",
       "4             Yes              Yes      Yes     Yes  Positive  "
      ]
     },
     "execution_count": 15,
     "metadata": {},
     "output_type": "execute_result"
    }
   ],
   "source": [
    "# amostra inicial do conjunto de dados df\n",
    "df.head() "
   ]
  },
  {
   "cell_type": "code",
   "execution_count": 17,
   "id": "946e2fde",
   "metadata": {
    "ExecuteTime": {
     "end_time": "2023-09-25T01:37:24.340449Z",
     "start_time": "2023-09-25T01:37:24.286484Z"
    }
   },
   "outputs": [
    {
     "name": "stdout",
     "output_type": "stream",
     "text": [
      "<class 'pandas.core.frame.DataFrame'>\n",
      "RangeIndex: 520 entries, 0 to 519\n",
      "Data columns (total 17 columns):\n",
      " #   Column              Non-Null Count  Dtype \n",
      "---  ------              --------------  ----- \n",
      " 0   Age                 520 non-null    int64 \n",
      " 1   Gender              520 non-null    object\n",
      " 2   Polyuria            520 non-null    object\n",
      " 3   Polydipsia          520 non-null    object\n",
      " 4   sudden weight loss  520 non-null    object\n",
      " 5   weakness            520 non-null    object\n",
      " 6   Polyphagia          520 non-null    object\n",
      " 7   Genital thrush      520 non-null    object\n",
      " 8   visual blurring     520 non-null    object\n",
      " 9   Itching             520 non-null    object\n",
      " 10  Irritability        520 non-null    object\n",
      " 11  delayed healing     520 non-null    object\n",
      " 12  partial paresis     520 non-null    object\n",
      " 13  muscle stiffness    520 non-null    object\n",
      " 14  Alopecia            520 non-null    object\n",
      " 15  Obesity             520 non-null    object\n",
      " 16  class               520 non-null    object\n",
      "dtypes: int64(1), object(16)\n",
      "memory usage: 69.2+ KB\n"
     ]
    }
   ],
   "source": [
    "# informações gerais/resumidas sobre o conjunto de dados df \n",
    "df.info()"
   ]
  },
  {
   "cell_type": "code",
   "execution_count": 20,
   "id": "624fd9b1",
   "metadata": {
    "ExecuteTime": {
     "end_time": "2023-09-25T01:38:53.158954Z",
     "start_time": "2023-09-25T01:38:53.134970Z"
    }
   },
   "outputs": [
    {
     "data": {
      "text/plain": [
       "Age                   0\n",
       "Gender                0\n",
       "Polyuria              0\n",
       "Polydipsia            0\n",
       "sudden weight loss    0\n",
       "weakness              0\n",
       "Polyphagia            0\n",
       "Genital thrush        0\n",
       "visual blurring       0\n",
       "Itching               0\n",
       "Irritability          0\n",
       "delayed healing       0\n",
       "partial paresis       0\n",
       "muscle stiffness      0\n",
       "Alopecia              0\n",
       "Obesity               0\n",
       "class                 0\n",
       "dtype: int64"
      ]
     },
     "execution_count": 20,
     "metadata": {},
     "output_type": "execute_result"
    }
   ],
   "source": [
    "# Quantidade de dados ausentes sobre o conjunto de dados df \n",
    "df.isna().sum()"
   ]
  },
  {
   "cell_type": "code",
   "execution_count": 21,
   "id": "da6fb74e",
   "metadata": {
    "ExecuteTime": {
     "end_time": "2023-09-25T01:39:04.245278Z",
     "start_time": "2023-09-25T01:39:04.217297Z"
    }
   },
   "outputs": [
    {
     "data": {
      "text/plain": [
       "269"
      ]
     },
     "execution_count": 21,
     "metadata": {},
     "output_type": "execute_result"
    }
   ],
   "source": [
    "# duplicatas claras sobre o conjunto de dados de df\n",
    "df.duplicated().sum()"
   ]
  },
  {
   "cell_type": "code",
   "execution_count": 22,
   "id": "60665ec1",
   "metadata": {
    "ExecuteTime": {
     "end_time": "2023-09-25T01:39:30.017810Z",
     "start_time": "2023-09-25T01:39:29.987830Z"
    }
   },
   "outputs": [
    {
     "data": {
      "text/plain": [
       "True"
      ]
     },
     "execution_count": 22,
     "metadata": {},
     "output_type": "execute_result"
    }
   ],
   "source": [
    "# duplicatas implícitas sobre o conjunto de dados df\n",
    "df.duplicated().any()"
   ]
  },
  {
   "cell_type": "code",
   "execution_count": 23,
   "id": "d97c99b4",
   "metadata": {
    "ExecuteTime": {
     "end_time": "2023-09-25T01:47:56.454516Z",
     "start_time": "2023-09-25T01:47:56.430530Z"
    }
   },
   "outputs": [
    {
     "name": "stdout",
     "output_type": "stream",
     "text": [
      "Unique values in Age: [40 58 41 45 60 55 57 66 67 70 44 38 35 61 54 43 62 39 48 32 42 52 53 37\n",
      " 49 63 30 50 46 36 51 59 65 25 47 28 68 56 31 85 90 72 69 79 34 16 33 64\n",
      " 27 29 26]\n",
      "Unique values in Gender: ['Male' 'Female']\n",
      "Unique values in Polyuria: ['No' 'Yes']\n",
      "Unique values in Polydipsia: ['Yes' 'No']\n",
      "Unique values in sudden weight loss: ['No' 'Yes']\n",
      "Unique values in weakness: ['Yes' 'No']\n",
      "Unique values in Polyphagia: ['No' 'Yes']\n",
      "Unique values in Genital thrush: ['No' 'Yes']\n",
      "Unique values in visual blurring: ['No' 'Yes']\n",
      "Unique values in Itching: ['Yes' 'No']\n",
      "Unique values in Irritability: ['No' 'Yes']\n",
      "Unique values in delayed healing: ['Yes' 'No']\n",
      "Unique values in partial paresis: ['No' 'Yes']\n",
      "Unique values in muscle stiffness: ['Yes' 'No']\n",
      "Unique values in Alopecia: ['Yes' 'No']\n",
      "Unique values in Obesity: ['Yes' 'No']\n",
      "Unique values in class: ['Positive' 'Negative']\n"
     ]
    }
   ],
   "source": [
    "#verificar dados únicos para cada coluna\n",
    "unique_values = {}\n",
    "for column in df.columns:\n",
    "    unique_values[column] = df[column].unique()\n",
    "\n",
    "#mostrar dados unicos\n",
    "for column, values in unique_values.items():\n",
    "    print(f'Unique values in {column}: {values}')"
   ]
  },
  {
   "cell_type": "markdown",
   "id": "3b33b26c",
   "metadata": {},
   "source": [
    "**Conclusões intermediárias**"
   ]
  },
  {
   "cell_type": "markdown",
   "id": "1837a211",
   "metadata": {},
   "source": [
    "Através da etapa de pré-processamento de dados é possível realizar as seguintes conclusões intermediárias:\n",
    "\n",
    "1. **Informações Gerais do Conjunto de Dados**: O conjunto de dados consiste em 520 entradas e 17 colunas a seguir descritas:\n",
    " \n",
    "Caractéristicas: \n",
    "\n",
    "- `Age`: Idade dos pacientes em anos.\n",
    "- `Gender`: Gênero dos pacientes.\n",
    "- `Polyuria`: Presença de poliúria (micção excessiva).\n",
    "- `Polydipsia`: Presença de polidipsia (sede excessiva).\n",
    "- `Sudden Weight Loss`: Perda de peso repentina.\n",
    "- `Weakness`: Fraqueza.\n",
    "- `Polyphagia`: Presença de polifagia.\n",
    "- `Genital Thrush`: Candidíase genital.\n",
    "- `Visual Blurring`: Visão turva.\n",
    "- `Itching`: Coceira.\n",
    "- `Irritability`: Irritabilidade.\n",
    "- `Delayed Healing`: Cicatrização lenta.\n",
    "- `Partial Paresis`: Paralisia parcial.\n",
    "- `Muscle Stiffnes`s: Rigidez muscular.\n",
    "- `Alopecia`: Alopecia (perda de cabelo).\n",
    "- `Obesity`: Obesidade.\n",
    "\n",
    " Objetivo: \n",
    " \n",
    "- `Class`: A coluna alvo que indica a classificação dos pacientes para diabétes (\"Positive\" para risco de desenvolver diabetes ou \"Negative\" para não desenvolver diabetes).\n",
    "\n",
    "2. **Verificação de Dados Ausentes**\n",
    "\n",
    "    - Não há valores ausentes.\n",
    "\n",
    "4. **Duplicatas**\n",
    "\n",
    "    - Há duplicatas claras e implicitas em nosso conjunto de dados, no entanto esses dados devem ser preservados, pois foram recolhidos através de questionários diretos de pacientes e devidamente aprovados por um médico.\n",
    "\n",
    "5. **Valores Únicos**\n",
    "\n",
    "    - Verificamos uma lista dos valores únicos em cada coluna, para entender a diversidade e a natureza das variáveis categóricas."
   ]
  },
  {
   "cell_type": "markdown",
   "id": "7b748b72",
   "metadata": {},
   "source": [
    "## Análise Exploratória dos Dados"
   ]
  },
  {
   "cell_type": "code",
   "execution_count": 24,
   "id": "dc28b47d",
   "metadata": {
    "ExecuteTime": {
     "end_time": "2023-09-25T02:19:42.830492Z",
     "start_time": "2023-09-25T02:19:42.737549Z"
    },
    "scrolled": true
   },
   "outputs": [
    {
     "data": {
      "text/html": [
       "<div>\n",
       "<style scoped>\n",
       "    .dataframe tbody tr th:only-of-type {\n",
       "        vertical-align: middle;\n",
       "    }\n",
       "\n",
       "    .dataframe tbody tr th {\n",
       "        vertical-align: top;\n",
       "    }\n",
       "\n",
       "    .dataframe thead th {\n",
       "        text-align: right;\n",
       "    }\n",
       "</style>\n",
       "<table border=\"1\" class=\"dataframe\">\n",
       "  <thead>\n",
       "    <tr style=\"text-align: right;\">\n",
       "      <th></th>\n",
       "      <th>Age</th>\n",
       "    </tr>\n",
       "  </thead>\n",
       "  <tbody>\n",
       "    <tr>\n",
       "      <th>count</th>\n",
       "      <td>520.000000</td>\n",
       "    </tr>\n",
       "    <tr>\n",
       "      <th>mean</th>\n",
       "      <td>48.028846</td>\n",
       "    </tr>\n",
       "    <tr>\n",
       "      <th>std</th>\n",
       "      <td>12.151466</td>\n",
       "    </tr>\n",
       "    <tr>\n",
       "      <th>min</th>\n",
       "      <td>16.000000</td>\n",
       "    </tr>\n",
       "    <tr>\n",
       "      <th>25%</th>\n",
       "      <td>39.000000</td>\n",
       "    </tr>\n",
       "    <tr>\n",
       "      <th>50%</th>\n",
       "      <td>47.500000</td>\n",
       "    </tr>\n",
       "    <tr>\n",
       "      <th>75%</th>\n",
       "      <td>57.000000</td>\n",
       "    </tr>\n",
       "    <tr>\n",
       "      <th>max</th>\n",
       "      <td>90.000000</td>\n",
       "    </tr>\n",
       "  </tbody>\n",
       "</table>\n",
       "</div>"
      ],
      "text/plain": [
       "              Age\n",
       "count  520.000000\n",
       "mean    48.028846\n",
       "std     12.151466\n",
       "min     16.000000\n",
       "25%     39.000000\n",
       "50%     47.500000\n",
       "75%     57.000000\n",
       "max     90.000000"
      ]
     },
     "execution_count": 24,
     "metadata": {},
     "output_type": "execute_result"
    }
   ],
   "source": [
    "# conjunto de estatisticas quantitativas comuns sobre o conjunto de dados df\n",
    "df.describe()"
   ]
  },
  {
   "cell_type": "code",
   "execution_count": 36,
   "id": "7477b945",
   "metadata": {
    "ExecuteTime": {
     "end_time": "2023-09-25T02:26:16.051475Z",
     "start_time": "2023-09-25T02:26:15.231984Z"
    }
   },
   "outputs": [
    {
     "data": {
      "image/png": "[encoded data removed]",
      "text/plain": [
       "<Figure size 800x600 with 1 Axes>"
      ]
     },
     "metadata": {},
     "output_type": "display_data"
    }
   ],
   "source": [
    "# Histograma da idade (variável numérica)\n",
    "plt.figure(figsize=(8, 6))\n",
    "sns.histplot(df['Age'], bins=10, kde=True) \n",
    "plt.title('Distribuição de Idade')\n",
    "plt.xlabel('Idade')\n",
    "plt.ylabel('Frequência')\n",
    "plt.show()"
   ]
  },
  {
   "cell_type": "code",
   "execution_count": 37,
   "id": "6c84f7be",
   "metadata": {
    "ExecuteTime": {
     "end_time": "2023-09-25T02:26:47.885808Z",
     "start_time": "2023-09-25T02:26:47.753891Z"
    }
   },
   "outputs": [
    {
     "data": {
      "text/html": [
       "<div>\n",
       "<style scoped>\n",
       "    .dataframe tbody tr th:only-of-type {\n",
       "        vertical-align: middle;\n",
       "    }\n",
       "\n",
       "    .dataframe tbody tr th {\n",
       "        vertical-align: top;\n",
       "    }\n",
       "\n",
       "    .dataframe thead th {\n",
       "        text-align: right;\n",
       "    }\n",
       "</style>\n",
       "<table border=\"1\" class=\"dataframe\">\n",
       "  <thead>\n",
       "    <tr style=\"text-align: right;\">\n",
       "      <th></th>\n",
       "      <th>Gender</th>\n",
       "      <th>Polyuria</th>\n",
       "      <th>Polydipsia</th>\n",
       "      <th>sudden weight loss</th>\n",
       "      <th>weakness</th>\n",
       "      <th>Polyphagia</th>\n",
       "      <th>Genital thrush</th>\n",
       "      <th>visual blurring</th>\n",
       "      <th>Itching</th>\n",
       "      <th>Irritability</th>\n",
       "      <th>delayed healing</th>\n",
       "      <th>partial paresis</th>\n",
       "      <th>muscle stiffness</th>\n",
       "      <th>Alopecia</th>\n",
       "      <th>Obesity</th>\n",
       "      <th>class</th>\n",
       "    </tr>\n",
       "  </thead>\n",
       "  <tbody>\n",
       "    <tr>\n",
       "      <th>count</th>\n",
       "      <td>520</td>\n",
       "      <td>520</td>\n",
       "      <td>520</td>\n",
       "      <td>520</td>\n",
       "      <td>520</td>\n",
       "      <td>520</td>\n",
       "      <td>520</td>\n",
       "      <td>520</td>\n",
       "      <td>520</td>\n",
       "      <td>520</td>\n",
       "      <td>520</td>\n",
       "      <td>520</td>\n",
       "      <td>520</td>\n",
       "      <td>520</td>\n",
       "      <td>520</td>\n",
       "      <td>520</td>\n",
       "    </tr>\n",
       "    <tr>\n",
       "      <th>unique</th>\n",
       "      <td>2</td>\n",
       "      <td>2</td>\n",
       "      <td>2</td>\n",
       "      <td>2</td>\n",
       "      <td>2</td>\n",
       "      <td>2</td>\n",
       "      <td>2</td>\n",
       "      <td>2</td>\n",
       "      <td>2</td>\n",
       "      <td>2</td>\n",
       "      <td>2</td>\n",
       "      <td>2</td>\n",
       "      <td>2</td>\n",
       "      <td>2</td>\n",
       "      <td>2</td>\n",
       "      <td>2</td>\n",
       "    </tr>\n",
       "    <tr>\n",
       "      <th>top</th>\n",
       "      <td>Male</td>\n",
       "      <td>No</td>\n",
       "      <td>No</td>\n",
       "      <td>No</td>\n",
       "      <td>Yes</td>\n",
       "      <td>No</td>\n",
       "      <td>No</td>\n",
       "      <td>No</td>\n",
       "      <td>No</td>\n",
       "      <td>No</td>\n",
       "      <td>No</td>\n",
       "      <td>No</td>\n",
       "      <td>No</td>\n",
       "      <td>No</td>\n",
       "      <td>No</td>\n",
       "      <td>Positive</td>\n",
       "    </tr>\n",
       "    <tr>\n",
       "      <th>freq</th>\n",
       "      <td>328</td>\n",
       "      <td>262</td>\n",
       "      <td>287</td>\n",
       "      <td>303</td>\n",
       "      <td>305</td>\n",
       "      <td>283</td>\n",
       "      <td>404</td>\n",
       "      <td>287</td>\n",
       "      <td>267</td>\n",
       "      <td>394</td>\n",
       "      <td>281</td>\n",
       "      <td>296</td>\n",
       "      <td>325</td>\n",
       "      <td>341</td>\n",
       "      <td>432</td>\n",
       "      <td>320</td>\n",
       "    </tr>\n",
       "  </tbody>\n",
       "</table>\n",
       "</div>"
      ],
      "text/plain": [
       "       Gender Polyuria Polydipsia sudden weight loss weakness Polyphagia  \\\n",
       "count     520      520        520                520      520        520   \n",
       "unique      2        2          2                  2        2          2   \n",
       "top      Male       No         No                 No      Yes         No   \n",
       "freq      328      262        287                303      305        283   \n",
       "\n",
       "       Genital thrush visual blurring Itching Irritability delayed healing  \\\n",
       "count             520             520     520          520             520   \n",
       "unique              2               2       2            2               2   \n",
       "top                No              No      No           No              No   \n",
       "freq              404             287     267          394             281   \n",
       "\n",
       "       partial paresis muscle stiffness Alopecia Obesity     class  \n",
       "count              520              520      520     520       520  \n",
       "unique               2                2        2       2         2  \n",
       "top                 No               No       No      No  Positive  \n",
       "freq               296              325      341     432       320  "
      ]
     },
     "execution_count": 37,
     "metadata": {},
     "output_type": "execute_result"
    }
   ],
   "source": [
    "# conjunto de estatisticas qualitativas comuns sobre o conjunto de dados df\n",
    "df.describe(include='O') "
   ]
  },
  {
   "cell_type": "code",
   "execution_count": 31,
   "id": "d35436e5",
   "metadata": {
    "ExecuteTime": {
     "end_time": "2023-09-25T02:22:47.181644Z",
     "start_time": "2023-09-25T02:22:46.612651Z"
    }
   },
   "outputs": [
    {
     "data": {
      "image/png": "[encoded data removed]",
      "text/plain": [
       "<Figure size 800x600 with 1 Axes>"
      ]
     },
     "metadata": {},
     "output_type": "display_data"
    }
   ],
   "source": [
    "# Box plot para idade e classe (variável alvo)\n",
    "plt.figure(figsize=(8, 6))\n",
    "sns.boxplot(data=df, x='class', y='Age')\n",
    "plt.title('Box Plot de Idade por Classe')\n",
    "plt.xlabel('Classe')\n",
    "plt.ylabel('Idade')\n",
    "plt.show()"
   ]
  },
  {
   "cell_type": "markdown",
   "id": "c4031f32",
   "metadata": {},
   "source": [
    "## Engenharia de Recursos"
   ]
  },
  {
   "cell_type": "markdown",
   "id": "a6f58f2d",
   "metadata": {},
   "source": [
    "## Modelagem"
   ]
  },
  {
   "cell_type": "markdown",
   "id": "c0a67970",
   "metadata": {},
   "source": [
    "## Avaliação do Modelo escolhido"
   ]
  },
  {
   "cell_type": "markdown",
   "id": "de076e12",
   "metadata": {
    "ExecuteTime": {
     "end_time": "2023-09-25T01:10:44.077979Z",
     "start_time": "2023-09-25T01:10:44.067986Z"
    }
   },
   "source": [
    "## Validação e Interpretação"
   ]
  },
  {
   "cell_type": "markdown",
   "id": "fda931ac",
   "metadata": {},
   "source": [
    "## Implantar e Tornar Acessível"
   ]
  },
  {
   "cell_type": "markdown",
   "id": "f3b78291",
   "metadata": {
    "ExecuteTime": {
     "end_time": "2023-09-25T01:11:38.713842Z",
     "start_time": "2023-09-25T01:11:38.695852Z"
    }
   },
   "source": [
    "## Comunicar e Documentar"
   ]
  }
 ],
 "metadata": {
  "hide_input": false,
  "kernelspec": {
   "display_name": "Python 3 (ipykernel)",
   "language": "python",
   "name": "python3"
  },
  "language_info": {
   "codemirror_mode": {
    "name": "ipython",
    "version": 3
   },
   "file_extension": ".py",
   "mimetype": "text/x-python",
   "name": "python",
   "nbconvert_exporter": "python",
   "pygments_lexer": "ipython3",
   "version": "3.10.9"
  },
  "nbTranslate": {
   "displayLangs": [
    "*"
   ],
   "hotkey": "alt-t",
   "langInMainMenu": true,
   "sourceLang": "en",
   "targetLang": "fr",
   "useGoogleTranslate": true
  },
  "toc": {
   "base_numbering": 1,
   "nav_menu": {},
   "number_sections": true,
   "sideBar": true,
   "skip_h1_title": false,
   "title_cell": "Table of Contents",
   "title_sidebar": "Contents",
   "toc_cell": false,
   "toc_position": {},
   "toc_section_display": true,
   "toc_window_display": false
  },
  "varInspector": {
   "cols": {
    "lenName": 16,
    "lenType": 16,
    "lenVar": 40
   },
   "kernels_config": {
    "python": {
     "delete_cmd_postfix": "",
     "delete_cmd_prefix": "del ",
     "library": "var_list.py",
     "varRefreshCmd": "print(var_dic_list())"
    },
    "r": {
     "delete_cmd_postfix": ") ",
     "delete_cmd_prefix": "rm(",
     "library": "var_list.r",
     "varRefreshCmd": "cat(var_dic_list()) "
    }
   },
   "types_to_exclude": [
    "module",
    "function",
    "builtin_function_or_method",
    "instance",
    "_Feature"
   ],
   "window_display": false
  }
 },
 "nbformat": 4,
 "nbformat_minor": 5
}
